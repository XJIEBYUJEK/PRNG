{
 "cells": [
  {
   "cell_type": "markdown",
   "metadata": {},
   "source": []
  },
  {
   "cell_type": "code",
   "execution_count": 1,
   "metadata": {
    "pycharm": {
     "is_executing": false,
     "name": "#%%\n"
    }
   },
   "outputs": [],
   "source": [
    "from typing import List\n",
    "from time import time\n",
    "from matplotlib import pyplot as plt\n",
    "import numpy as np\n",
    "from scipy.stats import chi2\n",
    "from random import randint\n"
   ]
  },
  {
   "cell_type": "code",
   "execution_count": 2,
   "metadata": {
    "pycharm": {
     "is_executing": false,
     "name": "#%%\n"
    }
   },
   "outputs": [],
   "source": [
    "def linear(size: int, range_modifier: int, seed_modifier: int, r = int((time() - int(time())) * 100000)) -> List[int]:\n",
    "    \"\"\"\n",
    "    Генератор псевдослучайных чисел на основе линейного конгруэнтного метода.\n",
    "    range_modifier: Диапазон генерации.\n",
    "    size: Объём генерируемой выборки.\n",
    "    r: Зерно генератора\n",
    "    result: Сгенерированная выборка из чисел.\n",
    "    \"\"\"\n",
    "    result = []\n",
    "    r += seed_modifier \n",
    "    m = 2**48\n",
    "    k = 25214903917\n",
    "    b = 11\n",
    "    for _ in range(size):\n",
    "        r = (k * r + b) % m % range_modifier\n",
    "        result.append(r)\n",
    "    return result\n",
    "    \n",
    "def simple_generator(size: int, range_modifier: int, seed_modifier: int) -> List[int]:\n",
    "    \"\"\"\n",
    "    Мой собственный генератор псевдослучайных чисел реализованный с помощью метода time()\n",
    "    range_modifier: Диапазон генерации.\n",
    "    size: Объём генерируемой выборки.\n",
    "    result: Сгенерированная выборка из чисел.\n",
    "    \"\"\"\n",
    "    result = []\n",
    "    seed = int((time() - int(time())) * (1 - (time() - int(time()))) * 51263) % range_modifier + seed_modifier\n",
    "    for _ in range(size):\n",
    "        seed = (seed * int((time() - int(time())) * (1 - (time() - int(time()))) * 51263)) % range_modifier\n",
    "        result.append(seed)\n",
    "        \n",
    "    return result"
   ]
  },
  {
   "cell_type": "code",
   "execution_count": 3,
   "metadata": {
    "pycharm": {
     "is_executing": false,
     "name": "#%%\n"
    }
   },
   "outputs": [],
   "source": [
    "\n",
    "def mean(sample: List[int]) -> float:\n",
    "    \"\"\"\n",
    "    Вычисление выборочного среднего.\n",
    "    :param sample: Выборка из чисел.\n",
    "    :return: Выборочное среднее.\n",
    "    \"\"\"\n",
    "    return sum(sample) / len(sample)\n",
    "\n",
    "\n",
    "def deviation(sample: List[int]) -> float:\n",
    "    \"\"\"\n",
    "    Вычисление выборочного стандартного отклонения.\n",
    "    :param sample: Выборка из чисел.\n",
    "    :return: Выборочное стандартное отклонение.\n",
    "    \"\"\"\n",
    "    m = mean(sample)\n",
    "    return (sum((element-m) ** 2 for element in sample) / len(sample)) ** (1/2)\n",
    "\n",
    "\n",
    "def cv(sample: List[int]) -> float:\n",
    "    \"\"\"\n",
    "    Вычисление выборочного коэффициента вариации.\n",
    "    :param sample: Выборка из чисел.\n",
    "    :return: Выборочный коэффициент вариации.\n",
    "    \"\"\"\n",
    "    return deviation(sample) / mean(sample)"
   ]
  },
  {
   "cell_type": "code",
   "execution_count": 4,
   "metadata": {
    "pycharm": {
     "is_executing": false,
     "name": "#%%\n"
    }
   },
   "outputs": [],
   "source": [
    "def pearson(sample: List[int]) -> None:\n",
    "    \"\"\"\n",
    "    Проверка выборки на равномерность и случайность с помощью критерия хи-квадрат Пирсона.\n",
    "    :param sample: Выборка из чисел для проверки.\n",
    "    :return: Индикаторы равномерности и случайности.\n",
    "    \"\"\"\n",
    "    n = len(sample)                             # Объём выборки\n",
    "    k = 1 + int(np.log2(n))                     # Количество интервалов (по формуле Стёрджеса)\n",
    "    p = 1 / k                                   # Вероятность попадания элемента в интервал\n",
    "    borders = np.linspace(0, 10000.01, k+1)     # Границы интервалов\n",
    "\n",
    "    # Частоты попадания выборочных данных в соответствующие интервалы\n",
    "    nu = np.zeros(k)\n",
    "    for element in sample:\n",
    "        for i in range(k):\n",
    "            if borders[i] <= element < borders[i+1]:\n",
    "                nu[i] += 1\n",
    "                break\n",
    "\n",
    "    # Статистика, характеризующая отклонение выборочных данных\n",
    "    # от соответствующих гипотетических значений\n",
    "    stat = sum(nu[i]**2 / p for i in range(k)) / n - n\n",
    "\n",
    "    if stat < chi2.ppf(.1, k-1):\n",
    "        print('выборка недостаточно случайна')\n",
    "    elif stat > chi2.ppf(.9, k-1):\n",
    "        print('выборка недостаточно равномерна')\n",
    "    else:\n",
    "        for quantile in np.arange(.1, .91, .01):\n",
    "            if chi2.ppf(quantile, k-1) >= stat:\n",
    "                break\n",
    "        # noinspection PyUnboundLocalVariable\n",
    "        print('выборка равномерна и случайна с вероятностью', '%.2f' % quantile)"
   ]
  },
  {
   "cell_type": "code",
   "execution_count": 5,
   "metadata": {
    "pycharm": {
     "is_executing": false,
     "name": "#%%\n"
    }
   },
   "outputs": [],
   "source": [
    "range_ = 10000\n",
    "size = 100\n",
    "n = 10\n",
    "\n",
    "linear_samples = [linear(size, range_, i) for i in range(n)]\n",
    "simple_samples = [simple_generator(size, range_, i) for i in range(n)]\n",
    "\n"
   ]
  },
  {
   "cell_type": "code",
   "execution_count": null,
   "metadata": {
    "pycharm": {
     "is_executing": false,
     "name": "#%%\n"
    }
   },
   "outputs": [],
   "source": []
  },
  {
   "cell_type": "code",
   "execution_count": 6,
   "metadata": {
    "pycharm": {
     "is_executing": false,
     "name": "#%%\n"
    }
   },
   "outputs": [],
   "source": [
    "# Вычисляем теоретические значения характеристик\n",
    "theoretical_mean = range_ / 2\n",
    "theoretical_deviation = (((range_+1)**2 - 1) / 12) ** (1/2)\n",
    "theoretical_cv = theoretical_deviation / theoretical_mean\n",
    "\n",
    "# Вычисляем выборочные средние\n",
    "linear_means = [mean(sample) for sample in linear_samples]\n",
    "simple_means = [mean(sample) for sample in simple_samples]\n",
    "\n",
    "# Вычисляем выборочные стандартные отклонения\n",
    "linear_deviations = [deviation(sample) for sample in linear_samples]\n",
    "simple_deviations = [deviation(sample) for sample in simple_samples]\n",
    "\n",
    "# Вычисляем выборочные коэффициенты вариации\n",
    "linear_cvs = [cv(sample) for sample in linear_samples]\n",
    "simple_cvs = [cv(sample) for sample in simple_samples]\n",
    "\n"
   ]
  },
  {
   "cell_type": "code",
   "execution_count": 7,
   "metadata": {
    "pycharm": {
     "is_executing": false,
     "name": "#%%\n"
    }
   },
   "outputs": [
    {
     "name": "stdout",
     "output_type": "stream",
     "text": [
      "\n",
      "Теоретические значения характеристик:\n",
      " Математическое ожидание: 5000.00\n",
      " Стандартное отклонение: 2887.04\n",
      " Коэффициент вариации: 0.58\n",
      "\n",
      "Линейный конгруэнтный метод:\n",
      " Выборочные средние:\n",
      "    4746.50    4381.50    5016.50    5551.50    4886.50    4821.50    5456.50    4991.50    4926.50    5461.50\n",
      " Выборочные стандартные отклонения:\n",
      "    2922.94    3097.65    3129.50    2833.37    2954.22    3038.18    2929.16    2727.46    2982.89    2831.72\n",
      " Выборочные коэффициенты вариации:\n",
      "       0.62       0.71       0.62       0.51       0.60       0.63       0.54       0.55       0.61       0.52\n",
      " 4 из 10 выборок однородны\n",
      "\n",
      "Самодельный метод:\n",
      " Выборочные средние:\n",
      "    4975.00    4950.00    4625.00    5000.00    5075.00    5050.00    4925.00    3967.00    5075.00    5012.50\n",
      " Выборочные стандартные отклонения:\n",
      "    2886.61    2886.24    2869.23    2886.66    2884.94    2886.24    2886.61    3029.92    2873.48    2856.67\n",
      " Выборочные коэффициенты вариации:\n",
      "       0.58       0.58       0.62       0.58       0.57       0.57       0.59       0.76       0.57       0.57\n",
      " 5 из 10 выборок однородны\n",
      "\n",
      "\n",
      "Линейный конгруэнтный метод:\n",
      " 0-я выборка недостаточно случайна\n",
      " 1-я выборка недостаточно равномерна\n",
      " 2-я выборка равномерна и случайна с вероятностью 0.56\n",
      " 3-я выборка недостаточно равномерна\n",
      " 4-я выборка равномерна и случайна с вероятностью 0.77\n",
      " 5-я выборка равномерна и случайна с вероятностью 0.64\n",
      " 6-я выборка равномерна и случайна с вероятностью 0.26\n",
      " 7-я выборка равномерна и случайна с вероятностью 0.44\n",
      " 8-я выборка равномерна и случайна с вероятностью 0.31\n",
      " 9-я выборка равномерна и случайна с вероятностью 0.51\n",
      "\n",
      "Самодельный метод:\n",
      " 0-я выборка недостаточно случайна\n",
      " 1-я выборка недостаточно случайна\n",
      " 2-я выборка недостаточно равномерна\n",
      " 3-я выборка недостаточно случайна\n",
      " 4-я выборка недостаточно случайна\n",
      " 5-я выборка недостаточно случайна\n",
      " 6-я выборка недостаточно случайна\n",
      " 7-я выборка недостаточно равномерна\n",
      " 8-я выборка недостаточно равномерна\n",
      " 9-я выборка недостаточно случайна\n"
     ]
    }
   ],
   "source": [
    "print('\\nТеоретические значения характеристик:')\n",
    "print(' Математическое ожидание:', '%.2f' % theoretical_mean, )\n",
    "print(' Стандартное отклонение:', '%.2f' % theoretical_deviation)\n",
    "print(' Коэффициент вариации:', '%.2f' % theoretical_cv)\n",
    "\n",
    "print('\\nЛинейный конгруэнтный метод:')\n",
    "print(' Выборочные средние:')\n",
    "print(('  {:>9.2f}'*n).format(*linear_means))\n",
    "print(' Выборочные стандартные отклонения:')\n",
    "print(('  {:>9.2f}'*n).format(*linear_deviations))\n",
    "print(' Выборочные коэффициенты вариации:')\n",
    "print(('  {:>9.2f}'*n).format(*linear_cvs))\n",
    "print(f' {len([cv for cv in linear_cvs if cv < theoretical_cv])} из {n} выборок однородны')\n",
    "\n",
    "print('\\nСамодельный метод:')\n",
    "print(' Выборочные средние:')\n",
    "print(('  {:>9.2f}'*n).format(*simple_means))\n",
    "print(' Выборочные стандартные отклонения:')\n",
    "print(('  {:>9.2f}'*n).format(*simple_deviations))\n",
    "print(' Выборочные коэффициенты вариации:')\n",
    "print(('  {:>9.2f}'*n).format(*simple_cvs))\n",
    "print(f' {len([cv for cv in simple_cvs if cv < theoretical_cv])} из {n} выборок однородны')\n",
    "\n",
    "print('\\n\\nЛинейный конгруэнтный метод:')\n",
    "for i, sample in enumerate(linear_samples):\n",
    "    print(f' {i}-я ', end='')\n",
    "    pearson(sample)\n",
    "\n",
    "print('\\nСамодельный метод:')\n",
    "for i, sample in enumerate(simple_samples):\n",
    "    print(f' {i}-я ', end='')\n",
    "    pearson(sample)"
   ]
  },
  {
   "cell_type": "code",
   "execution_count": 12,
   "metadata": {
    "pycharm": {
     "is_executing": false,
     "name": "#%%\n"
    }
   },
   "outputs": [
    {
     "data": {
      "image/png": "[encoded data removed]",
      "text/plain": [
       "<Figure size 1152x648 with 1 Axes>"
      ]
     },
     "metadata": {
      "needs_background": "light"
     },
     "output_type": "display_data"
    }
   ],
   "source": [
    "\n",
    "def Timer(method, size_):\n",
    "    sample = []\n",
    "    start_time = time()\n",
    "    if method == \"linear\":\n",
    "        linear(size_, range_, 0)\n",
    "    if method == \"simple\":\n",
    "        simple_generator(size_, range_, 0)\n",
    "    if method == \"python\":\n",
    "        for _ in range(size_):\n",
    "            sample.append(randint(0, size_))\n",
    "        \n",
    "    result_time = time() - start_time\n",
    "    return result_time\n",
    "\n",
    "sizes = [1000,2000,3000,4000,5000,10000,15000,30000,90000,100000,200000,500000,1000000]\n",
    "#fig, ax = plt.subplots()\n",
    "timer_1 = []\n",
    "timer_2 = []\n",
    "timer_3 = []\n",
    "\n",
    "for i in sizes:\n",
    "    timer_1.append(Timer(\"linear\", i))\n",
    "    timer_2.append(Timer(\"simple\", i))\n",
    "    timer_3.append(Timer(\"python\", i))\n",
    "\n",
    "\n",
    "plt.figure(figsize=(16, 9))\n",
    "plt.grid()\n",
    "plt.loglog(sizes, timer_1, label='Линейный конгруэнтный метод')\n",
    "plt.loglog(sizes, timer_2, label='Самодельный метод')\n",
    "plt.loglog(sizes, timer_3, label='Встроенный random')\n",
    "plt.legend()\n",
    "plt.show()"
   ]
  },
  {
   "cell_type": "code",
   "execution_count": null,
   "metadata": {
    "pycharm": {
     "is_executing": false,
     "name": "#%%\n"
    }
   },
   "outputs": [],
   "source": []
  },
  {
   "cell_type": "code",
   "execution_count": null,
   "metadata": {},
   "outputs": [],
   "source": []
  }
 ],
 "metadata": {
  "kernelspec": {
   "display_name": "Python 3",
   "language": "python",
   "name": "python3"
  },
  "language_info": {
   "codemirror_mode": {
    "name": "ipython",
    "version": 3
   },
   "file_extension": ".py",
   "mimetype": "text/x-python",
   "name": "python",
   "nbconvert_exporter": "python",
   "pygments_lexer": "ipython3",
   "version": "3.7.3"
  },
  "pycharm": {
   "stem_cell": {
    "cell_type": "raw",
    "metadata": {
     "collapsed": false
    },
    "source": []
   }
  }
 },
 "nbformat": 4,
 "nbformat_minor": 2
}
